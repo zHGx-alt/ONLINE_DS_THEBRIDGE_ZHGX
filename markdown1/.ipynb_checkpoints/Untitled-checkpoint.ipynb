{
 "cells": [
  {
   "cell_type": "markdown",
   "id": "20a54924-bd64-41bc-ad3c-b01fa77d7870",
   "metadata": {},
   "source": [
    "# 1. Mis primero pasos con Markdown...\n",
    "...son muy buenos"
   ]
  },
  {
   "cell_type": "code",
   "execution_count": 5,
   "id": "6fe88d84-ca7e-4065-87a3-832caf480dfd",
   "metadata": {
    "jp-MarkdownHeadingCollapsed": true
   },
   "outputs": [],
   "source": [
    "# Esto es codigo de Python.\n",
    "# Va a ser muy habitual en el curso, acompañar el codigo de Python mediante celdas."
   ]
  },
  {
   "cell_type": "markdown",
   "id": "681a2b16-a303-490d-b0b1-413e3e4e0f47",
   "metadata": {},
   "source": [
    "# 2. Cabecera 1\n",
    "## Cabecera 2\n",
    "### Cabecera 3 \n",
    "#### Cabecera 4\n",
    "##### Cabecera 5\n",
    "###### Cabecera 6"
   ]
  },
  {
   "cell_type": "markdown",
   "id": "14f56d31-5dec-458f-b0d0-38270920ed96",
   "metadata": {},
   "source": [
    "# 3.HTML"
   ]
  },
  {
   "cell_type": "markdown",
   "id": "94d36235-d427-4f9a-bf96-5bdd40e81413",
   "metadata": {},
   "source": [
    "<h1>Header 1</h1>\n",
    "<h2>Header 2</h2>\n",
    "<h3>Header 3</h3>"
   ]
  },
  {
   "cell_type": "markdown",
   "id": "ae7db58b-a553-469b-9660-3ef61bded1a3",
   "metadata": {},
   "source": [
    "# 4. Negrita, Cursiva"
   ]
  },
  {
   "cell_type": "markdown",
   "id": "7e1bdda2-219f-40c0-8df9-6edb01f1770a",
   "metadata": {},
   "source": [
    "**Texto en negrita** "
   ]
  },
  {
   "cell_type": "markdown",
   "id": "b293328f-d1f5-424e-ae7e-8084be94b2e0",
   "metadata": {},
   "source": [
    "*Texto en cursiva*"
   ]
  },
  {
   "cell_type": "markdown",
   "id": "e45f56c1-150e-42ad-9164-1e360962f742",
   "metadata": {},
   "source": [
    "***Texto en negrita y cursiva***"
   ]
  },
  {
   "cell_type": "markdown",
   "id": "a6a4f64a-3af6-495e-a4d0-17c9d46e5372",
   "metadata": {},
   "source": [
    "# 5. Citar"
   ]
  },
  {
   "cell_type": "markdown",
   "id": "05696fb9-6078-46ed-906a-10884a47cd20",
   "metadata": {},
   "source": [
    ">Hola me llamo Manuel y soy de Malaga.\n",
    ">>Tengo 34 palos y 5 manzanas"
   ]
  }
 ],
 "metadata": {
  "kernelspec": {
   "display_name": "Python 3 (ipykernel)",
   "language": "python",
   "name": "python3"
  },
  "language_info": {
   "codemirror_mode": {
    "name": "ipython",
    "version": 3
   },
   "file_extension": ".py",
   "mimetype": "text/x-python",
   "name": "python",
   "nbconvert_exporter": "python",
   "pygments_lexer": "ipython3",
   "version": "3.10.11"
  }
 },
 "nbformat": 4,
 "nbformat_minor": 5
}
