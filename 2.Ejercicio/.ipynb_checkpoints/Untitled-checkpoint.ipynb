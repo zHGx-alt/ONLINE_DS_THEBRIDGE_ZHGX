{
 "cells": [
  {
   "cell_type": "markdown",
   "id": "2416d701-6b7c-4488-a0a2-036303a86abc",
   "metadata": {},
   "source": [
    "# 6. Salto de linea"
   ]
  },
  {
   "cell_type": "markdown",
   "id": "be9488ae-d996-4900-a82f-0a3bcd1126b3",
   "metadata": {},
   "source": [
    "Me llamo Juan y soy de Caceres.  \n",
    "Tengo 35 palos."
   ]
  },
  {
   "cell_type": "markdown",
   "id": "168a9989-c903-49ec-8a36-7ee9afe3d669",
   "metadata": {},
   "source": [
    "# 7. Lista"
   ]
  },
  {
   "cell_type": "markdown",
   "id": "1c75ece1-c816-4495-8b7a-9c83ee8de28b",
   "metadata": {},
   "source": [
    "-Comer  \n",
    "-Cenar  \n",
    "-Dormir"
   ]
  },
  {
   "cell_type": "markdown",
   "id": "9afca818-eef0-4824-9638-4bc1dfeb299a",
   "metadata": {},
   "source": [
    "1. Dia uno  \n",
    "    -Comer  \n",
    "    -Cenar  \n",
    "2. Dia dos  \n",
    "    -Lavar la ropa  "
   ]
  },
  {
   "cell_type": "markdown",
   "id": "29ad425f-bb2d-4b39-b2d8-2fdeba12077a",
   "metadata": {},
   "source": [
    "# 8. Codigo de Python"
   ]
  },
  {
   "cell_type": "markdown",
   "id": "7f026516-a7c1-4679-bf26-1a4cee3fe8a0",
   "metadata": {},
   "source": [
    "```Python  \n",
    "variable = \"Esto es una variable\"\n",
    "```"
   ]
  },
  {
   "cell_type": "markdown",
   "id": "9998dfb5-7fe3-4c58-b69e-3d1cd6b525b1",
   "metadata": {},
   "source": [
    "# 9. Lineas de separacion"
   ]
  },
  {
   "cell_type": "markdown",
   "id": "4635769a-d7d0-4bc8-ab19-069bda337213",
   "metadata": {},
   "source": [
    "Texto arriba\n",
    "\n",
    "---\n",
    "\n",
    "Texto en medio\n",
    "\n",
    "***\n",
    "\n",
    "Texto más abajo\n",
    "\n",
    "___\n",
    "\n",
    "Texto final\n"
   ]
  },
  {
   "cell_type": "markdown",
   "id": "6f42f55b-2b7c-49c9-95dd-201f20e830e8",
   "metadata": {},
   "source": [
    "# 10. Links y enlaces"
   ]
  },
  {
   "cell_type": "markdown",
   "id": "ccc1e168-4fb6-45b7-bd3b-d41953406bee",
   "metadata": {},
   "source": [
    "# Ejemplo de enlaces\n",
    "\n",
    "Texto normal con un [enlace a Google](https://www.google.com).\n",
    "\n",
    "También puedes poner otro enlace a [YouTube](https://www.youtube.com).\n",
    "\n",
    "---\n",
    "\n",
    "## Enlace como texto solo\n",
    "<https://www.google.com>\n",
    "\n",
    "## Enlace con título\n",
    "[Buscar en Google](https://www.google.com \"Ir a Google\")\n"
   ]
  },
  {
   "cell_type": "markdown",
   "id": "aed8fcf9-fd97-4faa-a1ab-f5955f2a828c",
   "metadata": {},
   "source": [
    "# 11. Imagenes"
   ]
  },
  {
   "cell_type": "markdown",
   "id": "63cca63f-d2fe-43a9-91b7-eea8c7ed1a47",
   "metadata": {},
   "source": [
    "#### Imagen en el mismo directorio"
   ]
  },
  {
   "cell_type": "markdown",
   "id": "9995f4ca-d62b-434f-a514-a75916ae9094",
   "metadata": {},
   "source": [
    "![esta en el mismo directorio](inverted_image.png)"
   ]
  },
  {
   "cell_type": "markdown",
   "id": "6f4a5465-9690-43e6-aa31-031ea662ee70",
   "metadata": {},
   "source": [
    "#### Imagen en otro directorio"
   ]
  },
  {
   "cell_type": "markdown",
   "id": "108b734e-04c6-4eaf-aa2e-d3f22eb830e4",
   "metadata": {},
   "source": [
    "![Jujutsu](../inverted_image.png)"
   ]
  },
  {
   "cell_type": "markdown",
   "id": "0e4309fc-6899-4189-a38b-01798a9702df",
   "metadata": {},
   "source": [
    "# 12. Documentacion"
   ]
  },
  {
   "cell_type": "markdown",
   "id": "e6b166c1-2e22-4a53-8be4-ed35802cc04a",
   "metadata": {},
   "source": [
    "[Este](https://www.google.com/url?q=https%3A%2F%2Fwww.markdownguide.org%2Fbasic-syntax%2F)"
   ]
  },
  {
   "cell_type": "markdown",
   "id": "41d194b1-97d6-47c6-9602-72252621b736",
   "metadata": {},
   "source": [
    "[Este otro](https://www.google.com/url?q=https%3A%2F%2Fdaringfireball.net%2Fprojects%2Fmarkdown%2Fsyntax)"
   ]
  },
  {
   "cell_type": "markdown",
   "id": "ba94026b-8f20-4397-a2d8-71960bd5a59a",
   "metadata": {},
   "source": [
    "[Ultimo](https://www.google.com/url?q=https%3A%2F%2Fmedium.com%2Fanalytics-vidhya%2Fthe-ultimate-markdown-guide-for-jupyter-notebook-d5e5abf728fd)"
   ]
  }
 ],
 "metadata": {
  "kernelspec": {
   "display_name": "Python 3 (ipykernel)",
   "language": "python",
   "name": "python3"
  },
  "language_info": {
   "codemirror_mode": {
    "name": "ipython",
    "version": 3
   },
   "file_extension": ".py",
   "mimetype": "text/x-python",
   "name": "python",
   "nbconvert_exporter": "python",
   "pygments_lexer": "ipython3",
   "version": "3.10.11"
  }
 },
 "nbformat": 4,
 "nbformat_minor": 5
}
