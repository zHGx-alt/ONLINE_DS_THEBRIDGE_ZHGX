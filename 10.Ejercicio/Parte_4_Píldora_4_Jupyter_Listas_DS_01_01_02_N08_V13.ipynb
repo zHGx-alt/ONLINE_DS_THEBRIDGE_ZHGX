{
 "cells": [
  {
   "cell_type": "markdown",
   "metadata": {
    "id": "fc7zR_5SMY0O"
   },
   "source": [
    "<img src = \"./img/TheBridge_logo_RGB_color.jpg\" width = 500><img src = \"./img/python.jpg\" width = 500>"
   ]
  },
  {
   "cell_type": "markdown",
   "metadata": {
    "id": "5OFmVPv0MY0O"
   },
   "source": [
    "# Python Basics I"
   ]
  },
  {
   "cell_type": "markdown",
   "metadata": {
    "id": "6-nKKagQMY0P"
   },
   "source": [
    "## Contenidos"
   ]
  },
  {
   "cell_type": "markdown",
   "metadata": {
    "id": "st30gquvMY0P"
   },
   "source": [
    "* [Listas\n",
    "](#Listas\n",
    ")\n"
   ]
  },
  {
   "cell_type": "markdown",
   "metadata": {
    "id": "k_4DC73eMY0P"
   },
   "source": [
    "## Listas\n",
    "[al indice](#Contenidos)  \n",
    "Se trata de otro de los tipos de datos de Python más usados. Dentro de las colecciones, que veremos más adelante, la lista es la colección que normalmente se le da más uso. **Nos permiten almacenar conjuntos de variables u objetos**, y son elementos de lo más versátiles puesto que podemos almacenar objetos de distintos tipos, modificarlos, eliminarlos, meter listas dentro de listas... Sus dos caractrísticas principales son:\n",
    "* **Mutables**: una vez se ha creado la lista, se puede modificar\n",
    "* **Ordenada**: Los elementos tienen un cierto orden, lo que nos permite acceder al elemento que queramos teniendo en cuenta tal orden\n",
    "\n",
    "En cuanto a su sintaxis, cuando declaremos la lista simplemente hay que separar cada elemento con comas, y rodearlo todo con corchetes."
   ]
  },
  {
   "cell_type": "code",
   "execution_count": 1,
   "metadata": {
    "id": "KnFgEpYyMY0Q"
   },
   "outputs": [
    {
     "name": "stdout",
     "output_type": "stream",
     "text": [
      "[1, 3, 4, 6]\n",
      "<class 'list'>\n"
     ]
    }
   ],
   "source": [
    "numeros = [1, 3, 4, 6]\n",
    "print(numeros)\n",
    "print(type(numeros))"
   ]
  },
  {
   "cell_type": "code",
   "execution_count": 4,
   "metadata": {
    "id": "fxzd6NKWMY0Q"
   },
   "outputs": [
    {
     "name": "stdout",
     "output_type": "stream",
     "text": [
      "<class 'list'>\n",
      "<class 'list'>\n"
     ]
    }
   ],
   "source": [
    "string = [\"hola\", \"mundo\", \"cruel\", \"malvado\"]\n",
    "booleanos = [True, False, not False, True or False, False and False]\n",
    "print(type(string))\n",
    "print(type(booleanos))"
   ]
  },
  {
   "cell_type": "code",
   "execution_count": 8,
   "metadata": {},
   "outputs": [
    {
     "name": "stdout",
     "output_type": "stream",
     "text": [
      "['Esto es ', 12, -23, 4, True, False, 'lista', 'hola', 75, True, [False, 67]]\n",
      "<class 'list'>\n"
     ]
    }
   ],
   "source": [
    "# lsita de tipos mezclados \n",
    "\n",
    "mix = [\"Esto es \", 12, -23,4, True, False, \"lista\"]\n",
    "\n",
    "# lista dentro de lista\n",
    "\n",
    "mixx = [\"hola\", 75, True, [False, 67]]\n",
    "len(mixx)\n",
    "\n",
    "concatenacion = mix + mixx\n",
    "print(concatenacion)\n",
    "print(type(concatenacion))"
   ]
  },
  {
   "cell_type": "markdown",
   "metadata": {
    "id": "dlbxc8-OMY0Q"
   },
   "source": [
    "**NOTA**: ¿Ves por qué los decimales en Python siempre van con puntos y no con comas? Con las colecciones el intérprete de Python se volvería loco.\n",
    "\n",
    "Podemos ver tambien el tipo de la lista"
   ]
  },
  {
   "cell_type": "code",
   "execution_count": null,
   "metadata": {
    "id": "aUpngCTQMY0R"
   },
   "outputs": [],
   "source": [
    "type(mix)"
   ]
  },
  {
   "cell_type": "markdown",
   "metadata": {
    "id": "mBU3pqgZMY0R"
   },
   "source": [
    "Calcular la longitud de la misma mediante el método *built-in* ya visto: `len()`"
   ]
  },
  {
   "cell_type": "code",
   "execution_count": null,
   "metadata": {
    "id": "u1jEmQdyMY0R"
   },
   "outputs": [],
   "source": [
    "len(mix)"
   ]
  },
  {
   "cell_type": "markdown",
   "metadata": {
    "id": "RdYWn6SOMY0R"
   },
   "source": [
    "Accedemos a los elemenos de la lista mediante corchetes `[]`\n",
    "\n",
    "**Importante**. El primer elemento es el 0"
   ]
  },
  {
   "cell_type": "code",
   "execution_count": 9,
   "metadata": {
    "id": "SF5Rc7pEMY0R"
   },
   "outputs": [
    {
     "name": "stdout",
     "output_type": "stream",
     "text": [
      "Esto\n"
     ]
    }
   ],
   "source": [
    "lista_ejemplo = [\"Esto\", 2, 3, \"patata\"]\n",
    "print(lista_ejemplo[0])"
   ]
  },
  {
   "cell_type": "markdown",
   "metadata": {
    "id": "YiGOehyJMY0R"
   },
   "source": [
    "### Metodos en Listas\n",
    "Para el tipo de objeto lista, también hay una serie de métodos catacterísticos que nos permiten operar con ellas: añadir valores, quitarlos, indexado, filtrado, etc... En [este enlace](https://www.w3schools.com/python/python_ref_list.asp) puedes encontrar todos los métodos que podrás usar con listas."
   ]
  },
  {
   "cell_type": "code",
   "execution_count": 22,
   "metadata": {
    "id": "p9g6tmOoMY0R"
   },
   "outputs": [
    {
     "name": "stdout",
     "output_type": "stream",
     "text": [
      "['fisica', 'mates', 'quimica', 'lite', 'lengua']\n",
      "['fisica', 'educaion fisica', 'mates', 'quimica', 'lite', 'lengua']\n",
      "['fisica', 'mates', 'quimica', 'lite', 'lengua']\n",
      "['fisica', 'mates', 'quimica', 'lengua']\n",
      "['fisica', 'lengua', 'mates', 'quimica']\n"
     ]
    }
   ],
   "source": [
    "asignaturas = [\"fisica\", \"mates\", \"quimica\", \"lite\"]\n",
    "\n",
    "# añadir algo\n",
    "asignaturas.append(\"lengua\")\n",
    "print(asignaturas)\n",
    "\n",
    "# ahora en una posicion determinada\n",
    "\n",
    "asignaturas.insert(1, \"educaion fisica\")\n",
    "print(asignaturas)\n",
    "\n",
    "# quitar elementos\n",
    "\n",
    "# asignaturas.clear()\n",
    "# print(asignaturas)\n",
    "\n",
    "# quitar un elemento segun su posicion\n",
    "asignaturas.pop(1)\n",
    "print(asignaturas)\n",
    "\n",
    "# quitar un elemento por su valor \n",
    "\n",
    "asignaturas.remove(\"lite\")\n",
    "print(asignaturas)\n",
    "\n",
    "# ordenar la lista\n",
    "asignaturas.sort()\n",
    "print(asignaturas)"
   ]
  },
  {
   "cell_type": "code",
   "execution_count": 23,
   "metadata": {
    "id": "104wcQIpMY0R"
   },
   "outputs": [
    {
     "name": "stdout",
     "output_type": "stream",
     "text": [
      "[1, 2, 3, 4, 5, 7]\n"
     ]
    }
   ],
   "source": [
    "numeros = [1, 4, 5, 7, 2, 3]\n",
    "numeros.sort()\n",
    "print(numeros)"
   ]
  },
  {
   "cell_type": "code",
   "execution_count": null,
   "metadata": {
    "id": "tMiPqt5_MY0S"
   },
   "outputs": [],
   "source": []
  }
 ],
 "metadata": {
  "colab": {
   "provenance": []
  },
  "kernelspec": {
   "display_name": "Python 3 (ipykernel)",
   "language": "python",
   "name": "python3"
  },
  "language_info": {
   "codemirror_mode": {
    "name": "ipython",
    "version": 3
   },
   "file_extension": ".py",
   "mimetype": "text/x-python",
   "name": "python",
   "nbconvert_exporter": "python",
   "pygments_lexer": "ipython3",
   "version": "3.10.11"
  }
 },
 "nbformat": 4,
 "nbformat_minor": 4
}
