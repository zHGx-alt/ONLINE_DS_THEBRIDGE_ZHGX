{
 "cells": [
  {
   "cell_type": "markdown",
   "metadata": {
    "id": "UR2z9Dc_1qqp"
   },
   "source": [
    "![TheBridge_Python_v0.png](attachment:TheBridge_Python_v0.png)"
   ]
  },
  {
   "cell_type": "markdown",
   "metadata": {
    "id": "fx_tqh-A1qqq"
   },
   "source": [
    "##  Argumentos clave-valor"
   ]
  },
  {
   "cell_type": "markdown",
   "metadata": {
    "id": "tGfKkYKo1qqr"
   },
   "source": [
    "### Contenidos"
   ]
  },
  {
   "cell_type": "markdown",
   "metadata": {
    "id": "P1aZ0nWb1qqr"
   },
   "source": [
    "* [Combinar `*args` con `**kwargs`](#Combinar-`*args`-con-`**kwargs`)\n",
    "* [Argumentos keyword](#Argumentos-keyword)\n"
   ]
  },
  {
   "cell_type": "markdown",
   "metadata": {
    "id": "X7K8-mHP1qqr"
   },
   "source": [
    "\n",
    "Para terminar con las diferentes posibilidades que ofrecen los argumentos de las funciones, vamos a tratar los argumentos clave-valor.  \n",
    "\n",
    "Es decir, tenemos también la opción de introducir un diccionario como argumentos, de esta forma, aunque el numero de argumentos sea variable, tendremos un inidicador, la clave, y el valor de cada clave.\n",
    "\n",
    "Se implementa con `**`"
   ]
  },
  {
   "cell_type": "code",
   "execution_count": 1,
   "metadata": {
    "id": "x5aiM3Wj1qqr"
   },
   "outputs": [
    {
     "name": "stdout",
     "output_type": "stream",
     "text": [
      "<class 'dict'>\n",
      "{'modelo': 'S20', 'marca': 'Samsung', 'camara': '24mpx'}\n"
     ]
    }
   ],
   "source": [
    "def insertar_movil_bd(**clave_valor):\n",
    "    print(type(clave_valor))\n",
    "    print(clave_valor)\n",
    "insertar_movil_bd(modelo = \"S20\", marca = \"Samsung\", camara = \"24mpx\")"
   ]
  },
  {
   "cell_type": "code",
   "execution_count": 2,
   "metadata": {},
   "outputs": [
    {
     "name": "stdout",
     "output_type": "stream",
     "text": [
      "modelo : S20\n",
      "marca : Samsung\n",
      "camara : 24mpx\n"
     ]
    }
   ],
   "source": [
    "def insertar_movil_bd(**kwargs):\n",
    "    for clave,valor in kwargs.items():\n",
    "        print(clave,\":\",valor)\n",
    "insertar_movil_bd(modelo = \"S20\", marca = \"Samsung\", camara = \"24mpx\")"
   ]
  },
  {
   "cell_type": "markdown",
   "metadata": {
    "id": "KtOS5YE41qqs"
   },
   "source": [
    "### Combinar `*args` con `**kwargs`\n",
    "[al indice](#Contenidos)  \n",
    "No hay ningun problema en tener un numero variable de argumentos y también argumentos clave-valor, todo ello en la misma función."
   ]
  },
  {
   "cell_type": "code",
   "execution_count": 12,
   "metadata": {
    "id": "pa2bv9-m1qqs"
   },
   "outputs": [
    {
     "name": "stdout",
     "output_type": "stream",
     "text": [
      "<class 'tuple'>\n",
      "es muy bueno\n",
      "no dura la bateria\n",
      "<class 'dict'>\n",
      "modelo S20\n",
      "marca Samsung\n",
      "camara 24mpx\n"
     ]
    }
   ],
   "source": [
    "def insertar_movil(*args, **kwargs):\n",
    "    print(type(args))\n",
    "    for i in args:\n",
    "        print(i)  \n",
    "\n",
    "    print(type(kwargs))\n",
    "\n",
    "    for clave, valor in kwargs.items():  \n",
    "        print(clave, valor)\n",
    "\n",
    "\n",
    "insertar_movil(\"es muy bueno\", \"no dura la bateria\", modelo = \"S20\", marca = \"Samsung\", camara = \"24mpx\")"
   ]
  },
  {
   "cell_type": "code",
   "execution_count": 13,
   "metadata": {},
   "outputs": [
    {
     "ename": "SyntaxError",
     "evalue": "invalid syntax (4061382014.py, line 1)",
     "output_type": "error",
     "traceback": [
      "\u001b[1;36m  Cell \u001b[1;32mIn[13], line 1\u001b[1;36m\u001b[0m\n\u001b[1;33m    def test(**kwargs, *args):\u001b[0m\n\u001b[1;37m                       ^\u001b[0m\n\u001b[1;31mSyntaxError\u001b[0m\u001b[1;31m:\u001b[0m invalid syntax\n"
     ]
    }
   ],
   "source": [
    "def test(**kwargs, *args):\n",
    "    print(\"test\")"
   ]
  },
  {
   "cell_type": "markdown",
   "metadata": {
    "id": "EFcFzxgK1qqs"
   },
   "source": [
    "### Argumentos keyword\n",
    "[al indice](#Contenidos)  \n",
    "Existe otro tipo de argumentos que son los *keyword*. Se caracterizan porque llevan un valor por defecto, y por tanto, si no usamos dicho argumento en la llamada, dentro de la función tomará el valor que hayamos dejado por defecto.\n",
    "\n",
    "Ten en cuenta que estos argumentos se colocan **al final**"
   ]
  },
  {
   "cell_type": "code",
   "execution_count": 15,
   "metadata": {
    "id": "zwDeBC5I1qqt"
   },
   "outputs": [
    {
     "data": {
      "text/plain": [
       "12.36"
      ]
     },
     "execution_count": 15,
     "metadata": {},
     "output_type": "execute_result"
    }
   ],
   "source": [
    "round(12.3564, 2)"
   ]
  },
  {
   "cell_type": "code",
   "execution_count": 17,
   "metadata": {},
   "outputs": [
    {
     "data": {
      "text/plain": [
       "[132, 12, 6, 5, 3]"
      ]
     },
     "execution_count": 17,
     "metadata": {},
     "output_type": "execute_result"
    }
   ],
   "source": [
    "sorted([12,3,5,6,132])\n",
    "sorted([12,3,5,6,132], reverse = True)"
   ]
  },
  {
   "cell_type": "code",
   "execution_count": 20,
   "metadata": {},
   "outputs": [
    {
     "name": "stdout",
     "output_type": "stream",
     "text": [
      "su pedido de Televison LG se entregara el 12/12/2025\n",
      "ponganse en contacto\n",
      "su pedido de lenovo 5i gen 10 se entregara el 31/08/2025\n"
     ]
    }
   ],
   "source": [
    "def pedido(pedido, fecha, incidencia = False):\n",
    "    if incidencia == True:\n",
    "        print(\"ponganse en contacto\")\n",
    "    print(\"su pedido de\", pedido, \"se entregara el\", fecha)\n",
    "\n",
    "pedido(\"Televison LG\",\"12/12/2025\")\n",
    "pedido(\"lenovo 5i gen 10\", \"31/08/2025\", incidencia = True)"
   ]
  },
  {
   "cell_type": "markdown",
   "metadata": {
    "id": "mgFXV-TV1qqt"
   },
   "source": [
    "<table align=\"left\">\n",
    " <tr>\n",
    "     <td style=\"text-align:left\">\n",
    "         <h3>ERRORES con argumentos keyword</h3>\n",
    "         \n",
    " </td></tr>\n",
    "</table>"
   ]
  },
  {
   "cell_type": "code",
   "execution_count": 23,
   "metadata": {
    "id": "_hWyPAnJ1qqt"
   },
   "outputs": [
    {
     "ename": "SyntaxError",
     "evalue": "non-default argument follows default argument (1699585401.py, line 1)",
     "output_type": "error",
     "traceback": [
      "\u001b[1;36m  Cell \u001b[1;32mIn[23], line 1\u001b[1;36m\u001b[0m\n\u001b[1;33m    def pedido(pedido, incidencia = False, fecha):\u001b[0m\n\u001b[1;37m                                           ^\u001b[0m\n\u001b[1;31mSyntaxError\u001b[0m\u001b[1;31m:\u001b[0m non-default argument follows default argument\n"
     ]
    }
   ],
   "source": [
    "def pedido(pedido, incidencia = False, fecha):\n",
    "    if incidencia == True:\n",
    "        print(\"ponganse en contacto\")\n",
    "    print(\"su pedido de\", pedido, \"se entregara el\", fecha)"
   ]
  },
  {
   "cell_type": "code",
   "execution_count": null,
   "metadata": {},
   "outputs": [],
   "source": []
  }
 ],
 "metadata": {
  "colab": {
   "provenance": []
  },
  "kernelspec": {
   "display_name": "Python 3 (ipykernel)",
   "language": "python",
   "name": "python3"
  },
  "language_info": {
   "codemirror_mode": {
    "name": "ipython",
    "version": 3
   },
   "file_extension": ".py",
   "mimetype": "text/x-python",
   "name": "python",
   "nbconvert_exporter": "python",
   "pygments_lexer": "ipython3",
   "version": "3.10.11"
  }
 },
 "nbformat": 4,
 "nbformat_minor": 4
}
