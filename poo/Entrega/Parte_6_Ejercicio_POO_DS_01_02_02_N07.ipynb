{
 "cells": [
  {
   "cell_type": "markdown",
   "metadata": {
    "id": "vigJnuAMSU4x"
   },
   "source": [
    "![TheBridge_logo_RGB_color.jpg](attachment:TheBridge_logo_RGB_color.jpg)"
   ]
  },
  {
   "cell_type": "markdown",
   "metadata": {
    "id": "2xmnwM17SU4y"
   },
   "source": [
    "![ejercicios.png](attachment:ejercicios.png)"
   ]
  },
  {
   "cell_type": "markdown",
   "metadata": {
    "id": "liorA-1ZSU4y"
   },
   "source": [
    "# Ejercicios Clases y Objetos"
   ]
  },
  {
   "cell_type": "markdown",
   "metadata": {
    "id": "5xXUz5l9SU4z"
   },
   "source": [
    "## Ejercicio 1\n",
    "Somos una empresa que tiene varias tiendas de electrodomesticos. Necesitamos un programa para manejar las tiendas, ver las ventas que han tenido, cuántos empleados hay, etc... Para ello vamos a modelizar la tienda en una clase, que tendrá las siguientes características:\n",
    "* Nombre clase: \"Tienda\"\n",
    "* Atributos comunes:\n",
    "    * Tipo: \"Electrodomésticos\"\n",
    "    * Abierta: True\n",
    "* Atributos propios de cada tienda:\n",
    "    * Nombre - String\n",
    "    * Dirección - String\n",
    "    * Número de empleados - int\n",
    "    * Ventas ultimos 3 meses - Lista de 3 numeros\n",
    "* Método para calcular las ventas de todos los meses, que devuelva un numero con todas las ventas.\n",
    "* Método que calcula la media de ventas de los ultimos meses, por empleado\n",
    "* Método que devuelve en un string el nombre de la tienda, junto con su dirección.\n",
    "* Método que obtiene las ventas del último mes.\n",
    "* Método para dar una proyección de las ventas en caso de haber invertido X dinero en marketing en esa tienda. Siendo X el parámetro de entrada. Si X es menor de 1000, las ventas de los ultimos 3 meses hubiesen sido de (1.2 x ventas), si es mayor o igual de 1000, las ventas hubiesen sido de (1.5 x venta). El método reescribe el atributo de ventas en los últimos 3 meses, y además devuelve las ventas con el aumento.\n",
    "\n",
    "Se pide:\n",
    "1. Implementar la clase \"Tienda\"\n",
    "2. Crear tres tiendas con datos inventados\n",
    "3. Comprueba en al menos una de ellas, todo lo implementado en la clase tienda (sus atributos, media de ventas, ventas/empleado...)\n",
    "3. Calcular las ventas del último mes de todas las tiendas. Para ello usa el bucle `for`\n",
    "4. Imprime por pantalla los nombres de las tiendas cuya dirección lleve el string \"Avenida\"\n",
    "5. Seguro que ya has hecho este apartado... Documenta la clase :)"
   ]
  },
  {
   "cell_type": "code",
   "execution_count": 19,
   "metadata": {},
   "outputs": [],
   "source": [
    "class Tienda():\n",
    "    \n",
    "    def __init__(self, tipo_tienda, abierta, nombre_tienda, direcc_tienda, num_empleados, ultimos_3_mes):\n",
    "        self.tipo = tipo_tienda\n",
    "        self.abierta = abierta\n",
    "        self.nombre = nombre_tienda\n",
    "        self.direcc = direcc_tienda\n",
    "        self.empleados= num_empleados\n",
    "        self.meses_3 = ultimos_3_mes\n",
    "\n",
    "    def total_ventas(self):\n",
    "        print(\"Total ventas:\", sum(self.meses_3))\n",
    "\n",
    "    def ventas_por_emple(self):\n",
    "        print(\"Ventas por empleado:\", sum(self.meses_3) / self.empleados)\n",
    "\n",
    "    def string(self):\n",
    "        print(f\"El nombre de la tienda es: {self.nombre}, y la dirección es: {self.direcc}\")\n",
    "\n",
    "    def ultm_mes(self):\n",
    "        ultm_mes = self.meses_3[-1]\n",
    "        print(f\"El último mes se han vendido un total de: {ultm_mes}\")\n",
    "\n",
    "    def calculo(self, inversion):\n",
    "        if inversion < 1000:\n",
    "            factor = 1.2\n",
    "        else:\n",
    "            factor = 1.5\n",
    "\n",
    "        self.meses_3 = [mes * factor for mes in self.meses_3]\n",
    "        print(f\"Ventas ajustadas después de la inversión: {self.meses_3}\")\n",
    "        "
   ]
  },
  {
   "cell_type": "code",
   "execution_count": 20,
   "metadata": {
    "scrolled": true
   },
   "outputs": [
    {
     "name": "stdout",
     "output_type": "stream",
     "text": [
      "Total ventas: 33000\n",
      "Ventas por empleado: 660.0\n",
      "El nombre de la tienda es: Supermercado El Buen Precio, y la dirección es: Av. Principal 123\n",
      "El último mes se han vendido un total de: 12000\n",
      "Ventas ajustadas después de la inversión: [15000.0, 16500.0, 18000.0]\n",
      "Total ventas: 16500\n",
      "Ventas por empleado: 550.0\n",
      "El nombre de la tienda es: Moda y Estilo, y la dirección es: Calle Ficticia 456\n",
      "El último mes se han vendido un total de: 5500\n",
      "Ventas ajustadas después de la inversión: [6000.0, 7200.0, 6600.0]\n",
      "Total ventas: 67000\n",
      "Ventas por empleado: 3350.0\n",
      "El nombre de la tienda es: Electro Mundo, y la dirección es: Calle Real 789\n",
      "El último mes se han vendido un total de: 25000\n",
      "Ventas ajustadas después de la inversión: [30000.0, 33000.0, 37500.0]\n"
     ]
    }
   ],
   "source": [
    "tienda1 = Tienda(\"Supermercado\", True, \"Supermercado El Buen Precio\", \"Av. Principal 123\", 50, [10000, 11000, 12000])\n",
    "tienda2 = Tienda(\"Ropa\", False, \"Moda y Estilo\", \"Av. Calle Ficticia 456\", 30, [5000, 6000, 5500])\n",
    "tienda3 = Tienda(\"Electrónica\", True, \"Electro Mundo\", \"Av. Calle Real 789\", 20, [20000, 22000, 25000])\n",
    "\n",
    "# Tienda 1\n",
    "tienda1.total_ventas()\n",
    "tienda1.ventas_por_emple()\n",
    "tienda1.string()\n",
    "tienda1.ultm_mes()\n",
    "tienda1.calculo(1500)  \n",
    "\n",
    "# Tienda 2\n",
    "tienda2.total_ventas()\n",
    "tienda2.ventas_por_emple()\n",
    "tienda2.string()\n",
    "tienda2.ultm_mes()\n",
    "tienda2.calculo(800)  \n",
    "\n",
    "# Tienda 3\n",
    "tienda3.total_ventas()\n",
    "tienda3.ventas_por_emple()\n",
    "tienda3.string()\n",
    "tienda3.ultm_mes()\n",
    "tienda3.calculo(2500)  "
   ]
  },
  {
   "cell_type": "markdown",
   "metadata": {
    "id": "WEBq7EpsSU40"
   },
   "source": [
    "## Ejercicio 2\n",
    "En este ejercicio vamos a implementar una clase *Perro* en Python. La clase tiene las siguientes características:\n",
    "* Cosas que sabemos seguro que tiene un perro\n",
    "    * Tiene 4 patas\n",
    "    * 2 orejas\n",
    "    * 2 ojos\n",
    "    * Una velocidad de 0. Por defecto, el perro está parado\n",
    "* Cuando se inicialice:\n",
    "    * El perro será de una determinada raza\n",
    "    * Por defecto tendrá pelo \"Marrón\", a no ser que se diga lo contrario.\n",
    "    * Por defecto no tendrá dueño, a no ser que se diga lo contrario.\n",
    "    \n",
    "* Dispondrá también de un método llamado andar, que tiene un argumento de entrada (aumento_velocidad). Este valor se le sumará a la velocidad que ya llevaba el perro.\n",
    "* Necesita otro método (parar), donde pondremos la velocidad a 0.\n",
    "* Otro método llamado \"ladrar\", que tendrá un argumento de entrada, y la salida será el siguiente string: \"GUAU!\" + el argumento de entrada.\n",
    "\n",
    "\n",
    "Se pide:\n",
    "* Implementa la clase *Perro*\n",
    "* Crea un objeto de tipo *Perro*, sin dueño\n",
    "* Comprueba que están bien todos sus atributos\n",
    "* Prueba que ande, y comprueba su velocidad\n",
    "* Páralo\n",
    "* Documenta la clase *Perro*"
   ]
  },
  {
   "cell_type": "code",
   "execution_count": 16,
   "metadata": {
    "id": "DpEWvbwGSU40"
   },
   "outputs": [],
   "source": [
    "class Perro:\n",
    "    def __init__(self):\n",
    "        self.patas = 4\n",
    "        self.orejas = 2\n",
    "        self.ojos = 2\n",
    "        self.velocidad = 0\n",
    "        self.raza = \"no definida\"\n",
    "        self.pelaje = \"Marrón\"\n",
    "        self.dueño = None\n",
    "\n",
    "    def aumento_velocidad(self, incremento):\n",
    "        self.velocidad += incremento\n",
    "        print(self.velocidad)\n",
    "\n",
    "    def parar(self):\n",
    "        self.velocidad = 0\n",
    "        print(self.velocidad)\n",
    "\n",
    "    def ladra(self, mensaje):\n",
    "        return \"GUAAU! \" + mensaje      "
   ]
  },
  {
   "cell_type": "code",
   "execution_count": 20,
   "metadata": {},
   "outputs": [
    {
     "name": "stdout",
     "output_type": "stream",
     "text": [
      "Perro 1 - Raza: no definida, Pelaje: Marrón, Velocidad: 0\n",
      "10\n",
      "Perro 1 - Nueva velocidad: 10\n",
      "0\n",
      "Perro 1 - Velocidad después de parar: 0\n",
      "Perro 1 - Ladra: GUAAU! ¡Tengo hambre!\n",
      "Perro 2 - Raza: Bulldog, Pelaje: Blanco\n",
      "5\n",
      "Perro 2 - Nueva velocidad: 5\n",
      "Perro 2 - Ladra: GUAAU! ¡Quiero jugar!\n"
     ]
    }
   ],
   "source": [
    "mi_perro1 = Perro()\n",
    "print(f\"Perro 1 - Raza: {mi_perro1.raza}, Pelaje: {mi_perro1.pelaje}, Velocidad: {mi_perro1.velocidad}\")\n",
    "\n",
    "\n",
    "mi_perro1.aumento_velocidad(10)\n",
    "print(f\"Perro 1 - Nueva velocidad: {mi_perro1.velocidad}\")\n",
    "\n",
    "\n",
    "mi_perro1.parar()\n",
    "print(f\"Perro 1 - Velocidad después de parar: {mi_perro1.velocidad}\")\n",
    "\n",
    "\n",
    "mensaje = mi_perro1.ladra(\"¡Tengo hambre!\")\n",
    "print(f\"Perro 1 - Ladra: {mensaje}\")\n",
    "\n",
    "\n",
    "mi_perro2 = Perro()\n",
    "mi_perro2.raza = \"Bulldog\"\n",
    "mi_perro2.pelaje = \"Blanco\"\n",
    "print(f\"Perro 2 - Raza: {mi_perro2.raza}, Pelaje: {mi_perro2.pelaje}\")\n",
    "\n",
    "\n",
    "mi_perro2.aumento_velocidad(5)\n",
    "print(f\"Perro 2 - Nueva velocidad: {mi_perro2.velocidad}\")\n",
    "\n",
    "\n",
    "mensaje2 = mi_perro2.ladra(\"¡Quiero jugar!\")\n",
    "print(f\"Perro 2 - Ladra: {mensaje2}\")\n"
   ]
  }
 ],
 "metadata": {
  "colab": {
   "provenance": []
  },
  "kernelspec": {
   "display_name": "Python 3 (ipykernel)",
   "language": "python",
   "name": "python3"
  },
  "language_info": {
   "codemirror_mode": {
    "name": "ipython",
    "version": 3
   },
   "file_extension": ".py",
   "mimetype": "text/x-python",
   "name": "python",
   "nbconvert_exporter": "python",
   "pygments_lexer": "ipython3",
   "version": "3.10.11"
  }
 },
 "nbformat": 4,
 "nbformat_minor": 4
}
