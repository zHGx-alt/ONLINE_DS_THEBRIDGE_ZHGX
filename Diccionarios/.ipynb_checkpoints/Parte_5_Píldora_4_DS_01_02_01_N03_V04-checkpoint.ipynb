{
 "cells": [
  {
   "cell_type": "markdown",
   "metadata": {
    "id": "PFvTm4Y1LLY6"
   },
   "source": [
    "![TheBridge_Python_v0.png](attachment:TheBridge_Python_v0.png)"
   ]
  },
  {
   "cell_type": "markdown",
   "metadata": {
    "id": "umY1gZ_OLLY7"
   },
   "source": [
    "## Colecciones Python: Diccionarios\n"
   ]
  },
  {
   "cell_type": "markdown",
   "metadata": {
    "id": "HtReX1haLLY7"
   },
   "source": [
    "### Contenidos\n"
   ]
  },
  {
   "cell_type": "markdown",
   "metadata": {
    "id": "PXbeOnC3LLY7"
   },
   "source": [
    "* [Introducción](#Introducción)\n",
    "\n",
    "* [Acceso, modificación, añadir, eliminar](#Acceso,-modificación,-añadir,-eliminar)\n",
    "\n",
    "* [Iterar](#Iterar)\n",
    "\n"
   ]
  },
  {
   "cell_type": "markdown",
   "metadata": {
    "id": "5n41ECtULLY8"
   },
   "source": [
    "### Introducción\n",
    "[al indice](#Contenidos)  \n",
    "\n",
    "En este tipo de colecciones no solo podemos agrupar datos, sino que tenemos la posibilidad de establecer una relación entre los mismos, con la forma **clave: valor**.\n",
    "\n",
    "La sintaxis  es mediante llaves `{}`\n",
    "\n",
    "> nombre_diccionario = {clave1: valor1, clave2: valor2, clave3: valor3}\n",
    "\n",
    "Si veíamos que las listas son elementos mutables y y ordenadas, y las tuplas inmutables y ordenadas, los diccionarios son:\n",
    "\n",
    "* **Mutables**: podemos modificar sus elementos\n",
    "* **Desordenado**: la potencia de acceso de los diccionarios es su formato clave-valor, no su orden. Aun así, el dicionario conserva el orden de los elemento según los vamos insertando.\n",
    "\n",
    "Vamos a declarar un diccionario en el que definiremos elementos de un coche"
   ]
  },
  {
   "cell_type": "code",
   "execution_count": 1,
   "metadata": {
    "id": "eBbwWLgRLLY8"
   },
   "outputs": [
    {
     "data": {
      "text/plain": [
       "{'color': 'Rojo',\n",
       " 'marca': 'bmw',\n",
       " 'modelo': 'm3 e92',\n",
       " 'peso': 1200,\n",
       " 'cambio automatico': False}"
      ]
     },
     "execution_count": 1,
     "metadata": {},
     "output_type": "execute_result"
    }
   ],
   "source": [
    "coche_dict = {\n",
    "    \"color\" : \"Rojo\",\n",
    "    \"marca\" : \"bmw\",\n",
    "    \"modelo\" : \"m3 e92\",\n",
    "    \"peso\" : 1200,\n",
    "    \"cambio automatico\" : False,\n",
    "}\n",
    "\n",
    "coche_dict"
   ]
  },
  {
   "cell_type": "markdown",
   "metadata": {
    "id": "-5I88KIHLLY8"
   },
   "source": [
    "Se puede almacenar todo tipo de datos: numero, cadena, booleano, listas, tuplas, diccionarios...\n",
    "\n",
    "Cuando declaremos el diccionario, lo podemos hacer en una sola linea `coche = {\"color\"=\"Gris\", \"marca\"...}`, aunque se recomienda por sencillez a la hora de leer el código, realizar esta acción en varias líneas. Si escribimos el primer elemento y presionamos enter, Jupyter introduce automáticamente la tabulación."
   ]
  },
  {
   "cell_type": "markdown",
   "metadata": {
    "id": "38SP1PJcLLY9"
   },
   "source": [
    "### Acceso, modificación, añadir, eliminar\n",
    "[al indice](#Contenidos)  \n",
    "\n"
   ]
  },
  {
   "cell_type": "code",
   "execution_count": 10,
   "metadata": {
    "id": "fuvB7qs6LLY9"
   },
   "outputs": [
    {
     "name": "stdout",
     "output_type": "stream",
     "text": [
      "['rojo', 'gris']\n",
      "1200\n",
      "{'color': ['rojo', 'gris'], 'marca': 'bmw', 'modelo': 'm3 e92', 'peso': 1200, 'cambio automatico': False}\n",
      "2\n",
      "{'color': ['rojo', 'gris'], 'marca': 'bmw', 'modelo': 'm3 e92', 'peso': 1200, 'cambio automatico': False}\n",
      "dict_keys(['color', 'marca', 'modelo', 'peso', 'cambio automatico'])\n",
      "dict_values([['rojo', 'gris'], 'bmw', 'm3 e92', 1200, False])\n",
      "{'direccion': 'valle de los caidos', 'precio': '4000'}\n"
     ]
    }
   ],
   "source": [
    "# Acceso\n",
    "\n",
    "print(coche_dict[\"color\"])\n",
    "print(coche_dict[\"peso\"])\n",
    "\n",
    "# modificar\n",
    "\n",
    "coche_dict[\"color\"] = [\"rojo\", \"gris\"]\n",
    "\n",
    "print(coche_dict)\n",
    "\n",
    "# Nuevo elemento\n",
    "\n",
    "coche_dict[\"puertas\"] = 2\n",
    "\n",
    "print(coche_dict[\"puertas\"])\n",
    "\n",
    "# eliminar elemento\n",
    "\n",
    "del coche_dict[\"puertas\"]\n",
    "\n",
    "print(coche_dict)\n",
    "\n",
    "# conocer las claves del diccionario\n",
    "\n",
    "print(coche_dict.keys())\n",
    "\n",
    "# conocer los varoles\n",
    "\n",
    "print(coche_dict.values())\n",
    "\n",
    "\n",
    "# diccionario vacio\n",
    "\n",
    "tienda = {}\n",
    "\n",
    "tienda[\"direccion\"] = \"valle de los caidos\"\n",
    "tienda[\"precio\"] = \"4000\"\n",
    "\n",
    "print(tienda)"
   ]
  },
  {
   "cell_type": "markdown",
   "metadata": {
    "id": "rF2UUWFVLLY9"
   },
   "source": [
    "Para más detalle de los métodos de los diccionario puedes [consultar la documentación](https://www.w3schools.com/python/python_ref_dictionary.asp)"
   ]
  },
  {
   "cell_type": "code",
   "execution_count": null,
   "metadata": {
    "id": "Cl8EcOn_LLY9"
   },
   "outputs": [],
   "source": [
    "# Podemos empezar tambien mediante un diccionario vacío"
   ]
  },
  {
   "cell_type": "markdown",
   "metadata": {
    "id": "wGaWLQgqLLY9"
   },
   "source": [
    "<table align=\"left\">\n",
    " <tr>\n",
    "     <td style=\"text-align:left\">\n",
    "         <h3>ERRORES en diccionarios</h3>\n",
    "         \n",
    " </td></tr>\n",
    "</table>"
   ]
  },
  {
   "cell_type": "markdown",
   "metadata": {
    "id": "ubqj4doTLLY-"
   },
   "source": [
    "Si hay una clave que no existe en el diccionario, saltará un error.\n",
    "\n",
    "En este caso, el error es bastante intuitivo: `KeyError`, no encuentra la clave"
   ]
  },
  {
   "cell_type": "code",
   "execution_count": 11,
   "metadata": {
    "id": "M-MEyYTHLLY-"
   },
   "outputs": [
    {
     "ename": "KeyError",
     "evalue": "'alala'",
     "output_type": "error",
     "traceback": [
      "\u001b[1;31m---------------------------------------------------------------------------\u001b[0m",
      "\u001b[1;31mKeyError\u001b[0m                                  Traceback (most recent call last)",
      "Cell \u001b[1;32mIn[11], line 1\u001b[0m\n\u001b[1;32m----> 1\u001b[0m \u001b[43mcoche_dict\u001b[49m\u001b[43m[\u001b[49m\u001b[38;5;124;43m\"\u001b[39;49m\u001b[38;5;124;43malala\u001b[39;49m\u001b[38;5;124;43m\"\u001b[39;49m\u001b[43m]\u001b[49m\n",
      "\u001b[1;31mKeyError\u001b[0m: 'alala'"
     ]
    }
   ],
   "source": [
    "coche_dict[\"alala\"]"
   ]
  },
  {
   "cell_type": "markdown",
   "metadata": {
    "id": "isUDhB7WLLY-"
   },
   "source": [
    "**¿Cómo solventar esto?** Sirmpre tienes la opción de usar el bloque `try/except`, pero en este caso, los diccionarios tienen una solución más elegante: `mi_diccionario.get(clave, valor si no existe)`"
   ]
  },
  {
   "cell_type": "code",
   "execution_count": 14,
   "metadata": {
    "id": "56_5P70sLLY-"
   },
   "outputs": [
    {
     "name": "stdout",
     "output_type": "stream",
     "text": [
      "4\n",
      "bmw\n"
     ]
    }
   ],
   "source": [
    "numero_de_puertas = coche_dict.get(\"puertas\",4)\n",
    "print(numero_de_puertas)\n",
    "\n",
    "marca = coche_dict.get(\"marca\", \"porsche\")\n",
    "print(marca)\n"
   ]
  },
  {
   "cell_type": "markdown",
   "metadata": {
    "id": "ofo2uIGQLLY-"
   },
   "source": [
    "### Iterar\n",
    "[al indice](#Contenidos)  \n",
    "\n",
    "Que el diccionario no esté ordenado, no quiere decir que no podamos iterar sus elementos, ya que también es un **interable**, como los son las listas o las tuplas."
   ]
  },
  {
   "cell_type": "code",
   "execution_count": 17,
   "metadata": {
    "id": "Z6YiZLktLLY-"
   },
   "outputs": [
    {
     "name": "stdout",
     "output_type": "stream",
     "text": [
      "color\n",
      "['rojo', 'gris']\n",
      "marca\n",
      "bmw\n",
      "modelo\n",
      "m3 e92\n",
      "peso\n",
      "1200\n",
      "cambio automatico\n",
      "False\n",
      "color : {'color': ['rojo', 'gris'], 'marca': 'bmw', 'modelo': 'm3 e92', 'peso': 1200, 'cambio automatico': False}\n",
      "marca : {'color': ['rojo', 'gris'], 'marca': 'bmw', 'modelo': 'm3 e92', 'peso': 1200, 'cambio automatico': False}\n",
      "modelo : {'color': ['rojo', 'gris'], 'marca': 'bmw', 'modelo': 'm3 e92', 'peso': 1200, 'cambio automatico': False}\n",
      "peso : {'color': ['rojo', 'gris'], 'marca': 'bmw', 'modelo': 'm3 e92', 'peso': 1200, 'cambio automatico': False}\n",
      "cambio automatico : {'color': ['rojo', 'gris'], 'marca': 'bmw', 'modelo': 'm3 e92', 'peso': 1200, 'cambio automatico': False}\n"
     ]
    }
   ],
   "source": [
    "for i in coche_dict:\n",
    "    print(i)\n",
    "    print(coche_dict[i])"
   ]
  },
  {
   "cell_type": "code",
   "execution_count": 19,
   "metadata": {},
   "outputs": [
    {
     "name": "stdout",
     "output_type": "stream",
     "text": [
      "color : ['rojo', 'gris']\n",
      "marca : bmw\n",
      "modelo : m3 e92\n",
      "peso : 1200\n",
      "cambio automatico : False\n"
     ]
    }
   ],
   "source": [
    "for i in coche_dict:\n",
    "    print(i,\":\",coche_dict[i])\n"
   ]
  },
  {
   "cell_type": "code",
   "execution_count": 20,
   "metadata": {
    "id": "NGx8U36QLLY-"
   },
   "outputs": [
    {
     "data": {
      "text/plain": [
       "dict_items([('color', ['rojo', 'gris']), ('marca', 'bmw'), ('modelo', 'm3 e92'), ('peso', 1200), ('cambio automatico', False)])"
      ]
     },
     "execution_count": 20,
     "metadata": {},
     "output_type": "execute_result"
    }
   ],
   "source": [
    "coche_dict.items()"
   ]
  },
  {
   "cell_type": "code",
   "execution_count": 22,
   "metadata": {},
   "outputs": [
    {
     "name": "stdout",
     "output_type": "stream",
     "text": [
      "color : ['rojo', 'gris']\n",
      "marca : bmw\n",
      "modelo : m3 e92\n",
      "peso : 1200\n",
      "cambio automatico : False\n"
     ]
    }
   ],
   "source": [
    "for clave,valor in coche_dict.items():\n",
    "    print(clave,\":\",valor)"
   ]
  },
  {
   "cell_type": "code",
   "execution_count": 27,
   "metadata": {},
   "outputs": [
    {
     "name": "stdout",
     "output_type": "stream",
     "text": [
      "('color', ['rojo', 'gris'])\n",
      "('marca', 'bmw')\n",
      "('modelo', 'm3 e92')\n",
      "('peso', 1200)\n",
      "('cambio automatico', False)\n"
     ]
    }
   ],
   "source": [
    "for clave in coche_dict.items():\n",
    "    print(clave)"
   ]
  },
  {
   "cell_type": "markdown",
   "metadata": {},
   "source": [
    "El propio programa identifica las llaves y los valores, por eso hay que poner dos variables"
   ]
  }
 ],
 "metadata": {
  "colab": {
   "provenance": []
  },
  "kernelspec": {
   "display_name": "Python 3 (ipykernel)",
   "language": "python",
   "name": "python3"
  },
  "language_info": {
   "codemirror_mode": {
    "name": "ipython",
    "version": 3
   },
   "file_extension": ".py",
   "mimetype": "text/x-python",
   "name": "python",
   "nbconvert_exporter": "python",
   "pygments_lexer": "ipython3",
   "version": "3.10.11"
  }
 },
 "nbformat": 4,
 "nbformat_minor": 4
}
