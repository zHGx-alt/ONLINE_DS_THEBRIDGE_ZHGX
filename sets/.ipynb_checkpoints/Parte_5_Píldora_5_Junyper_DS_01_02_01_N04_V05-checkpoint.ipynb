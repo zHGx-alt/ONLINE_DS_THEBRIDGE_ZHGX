{
 "cells": [
  {
   "cell_type": "markdown",
   "metadata": {
    "id": "DshvBtQtFUyR"
   },
   "source": [
    "![TheBridge_Python_v0.png](attachment:TheBridge_Python_v0.png)"
   ]
  },
  {
   "cell_type": "markdown",
   "metadata": {
    "id": "ABPwjgO6FUyU"
   },
   "source": [
    "## Colecciones Python: Sets\n"
   ]
  },
  {
   "cell_type": "markdown",
   "metadata": {
    "id": "u__DwY3QFUyU"
   },
   "source": [
    "### Contenidos\n"
   ]
  },
  {
   "cell_type": "markdown",
   "metadata": {
    "id": "UlesY9zaFUyU"
   },
   "source": [
    "* [Introducción](#Introducción)\n",
    "\n"
   ]
  },
  {
   "cell_type": "markdown",
   "metadata": {
    "id": "k97C05PzFUyU"
   },
   "source": [
    "### Introducción\n",
    "[al indice](#Contenidos)  \n",
    "\n",
    "Otra colección *bulit-in* de Python, compuesta por un conjunto de *valores*. Muy parecidos a las listas. Tienen las siguientes características:\n",
    "* **Mutables**: podemos modificarlos una vez se hayan creado\n",
    "* **No ordenado**\n",
    "* **Elementos unicos**: se compone de un conjunto de valores únicas\n",
    "\n",
    "**¿Cuándo usar sets?** Cuando estemos buscando unicidad en nuestros datos y no nos importe el orden.\n",
    "\n",
    "Te dejo por aquí [la documentación](https://docs.python.org/2/library/sets.html) para realizar consultas sobre los sets\n",
    "\n",
    "Si sintaxis es:\n",
    ">```Python\n",
    "> mi_set = {elemento1, elemento2, elemento3}\n",
    ">```\n",
    "\n",
    "Tiene una sintaxis muy parecida a la de las listas, pero en este caso no se utilizan los `{}`."
   ]
  },
  {
   "cell_type": "code",
   "execution_count": 4,
   "metadata": {
    "id": "u35CE7dIFUyV"
   },
   "outputs": [
    {
     "name": "stdout",
     "output_type": "stream",
     "text": [
      "<class 'set'>\n",
      "{'rojo', 'azul', 'naranja', 'verde'}\n",
      "4\n"
     ]
    }
   ],
   "source": [
    "colores = {\"azul\", \"rojo\", \"verde\", \"naranja\", \"azul\", \"verde\"}\n",
    "print(type(colores))\n",
    "print(colores)\n",
    "print(len(colores))"
   ]
  },
  {
   "cell_type": "markdown",
   "metadata": {
    "id": "9QAX2GIgFUyV"
   },
   "source": [
    "Los elementos del set son unicos, por lo que si en la declaración, o posteriormente añadiendo elementos hubiese algún duplicado, el set lo ignoraría. Es más, cuando aplicas el `len`, muestra la cantidad de valores únicos que tiene."
   ]
  },
  {
   "cell_type": "code",
   "execution_count": 8,
   "metadata": {
    "id": "hSUUC8F2FUyV"
   },
   "outputs": [
    {
     "name": "stdout",
     "output_type": "stream",
     "text": [
      "{'verde', 'azul', 'celeste', 'magenta', 'rojo'}\n",
      "{'verde', 'azul', 'celeste', 'magenta', 'naranja', 'rojo'}\n",
      "{'verde', 'azul', 'celeste', 'magenta', 'rojo'}\n",
      "verde\n",
      "azul\n",
      "celeste\n",
      "magenta\n",
      "rojo\n"
     ]
    }
   ],
   "source": [
    "# añadir valores\n",
    "\n",
    "colores.add(\"magenta\")\n",
    "print(colores)\n",
    "\n",
    "colores.update([\"celeste\", \"naranja\"])\n",
    "print(colores)\n",
    "\n",
    "colores.remove(\"naranja\")\n",
    "print(colores)\n",
    "\n",
    "for i in colores:\n",
    "    print(i)"
   ]
  },
  {
   "cell_type": "markdown",
   "metadata": {
    "id": "MdCHajjKFUyW"
   },
   "source": [
    "Para comprobar si dos sets tienen los mismos elementos"
   ]
  },
  {
   "cell_type": "code",
   "execution_count": 10,
   "metadata": {
    "id": "fOIjA-fwFUyW"
   },
   "outputs": [
    {
     "data": {
      "text/plain": [
       "True"
      ]
     },
     "execution_count": 10,
     "metadata": {},
     "output_type": "execute_result"
    }
   ],
   "source": [
    "set1 = {1,2,3,4,5,6,6,1,2}\n",
    "set2 = {1,2,3,4,5,6}\n",
    "\n",
    "set1 == set2"
   ]
  },
  {
   "cell_type": "code",
   "execution_count": 1,
   "metadata": {},
   "outputs": [
    {
     "name": "stdout",
     "output_type": "stream",
     "text": [
      "[100, 10, 23, 23, 15, 32, 45, 10, 100, 23]\n",
      "[32, 100, 10, 45, 15, 23]\n"
     ]
    }
   ],
   "source": [
    "# para quitar elementos repetidos de una lista\n",
    "\n",
    "\n",
    "lista_con = [100,10,23,23,15,32,45,10,100,23]\n",
    "print(lista_con)\n",
    "#print(set(lista_con))\n",
    "#print(list(set(lista_con)))\n",
    "\n",
    "lista_con = list(set(lista_con))\n",
    "print(lista_con)"
   ]
  },
  {
   "cell_type": "code",
   "execution_count": null,
   "metadata": {},
   "outputs": [],
   "source": []
  }
 ],
 "metadata": {
  "colab": {
   "provenance": []
  },
  "kernelspec": {
   "display_name": "Python 3 (ipykernel)",
   "language": "python",
   "name": "python3"
  },
  "language_info": {
   "codemirror_mode": {
    "name": "ipython",
    "version": 3
   },
   "file_extension": ".py",
   "mimetype": "text/x-python",
   "name": "python",
   "nbconvert_exporter": "python",
   "pygments_lexer": "ipython3",
   "version": "3.10.11"
  }
 },
 "nbformat": 4,
 "nbformat_minor": 4
}
