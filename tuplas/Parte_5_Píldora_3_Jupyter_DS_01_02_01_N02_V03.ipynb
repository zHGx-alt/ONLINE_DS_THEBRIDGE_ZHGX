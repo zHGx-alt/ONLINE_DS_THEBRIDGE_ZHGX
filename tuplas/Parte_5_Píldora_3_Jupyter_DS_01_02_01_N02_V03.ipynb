{
 "cells": [
  {
   "cell_type": "markdown",
   "metadata": {
    "id": "O1veXYrSHt9y"
   },
   "source": [
    "![TheBridge_Python_v0.png](attachment:TheBridge_Python_v0.png)"
   ]
  },
  {
   "cell_type": "markdown",
   "metadata": {
    "id": "s-fy67_BHt9z"
   },
   "source": [
    "##  Colecciones Python: Tuplas\n"
   ]
  },
  {
   "cell_type": "markdown",
   "metadata": {
    "id": "eJWk59tNHt9z"
   },
   "source": [
    "### Contenidos\n"
   ]
  },
  {
   "cell_type": "markdown",
   "metadata": {
    "id": "e1GDbdNLHt90"
   },
   "source": [
    "* [Introducción](#Introducción)\n",
    "\n",
    "* [Listas y tuplas](#Listas-y-tuplas)\n",
    "\n"
   ]
  },
  {
   "cell_type": "markdown",
   "metadata": {
    "id": "ZrG1vuZvHt90"
   },
   "source": [
    "### Introducción\n",
    "[al indice](#Contenidos)  \n",
    "\n",
    "Muy similares a las listas. Si en Notebooks anteriores definíamos a las listas como ordenadas y mutables, las tuplas son ordenadas e inmutables.\n",
    "\n",
    "* **Inmutables**: una vez creada la tupla con sus elementos iniciales, no se puede modificar\n",
    "* **Ordenadas**: podemos acceder a sus elementos a través del indice y reordenar la tupla según queramos\n",
    "\n",
    "Las tuplas se suelen usar para pequeñas colecciones de datos que no van a cambiar a lo largo del programa, como es el caso de las constantes.\n",
    "\n",
    "Si las listas se construían mediante corchetes `[]`, las tuplas lo hacen con los paréntesis `()`"
   ]
  },
  {
   "cell_type": "code",
   "execution_count": 2,
   "metadata": {
    "id": "N69AxDQVHt91"
   },
   "outputs": [
    {
     "name": "stdout",
     "output_type": "stream",
     "text": [
      "(3, 'Texto')\n",
      "<class 'tuple'>\n"
     ]
    }
   ],
   "source": [
    "tupla_ejemplo = (3, \"Texto\")\n",
    "print(tupla_ejemplo)\n",
    "print(type(tupla_ejemplo))"
   ]
  },
  {
   "cell_type": "code",
   "execution_count": 3,
   "metadata": {},
   "outputs": [
    {
     "name": "stdout",
     "output_type": "stream",
     "text": [
      "El primer elemento es 3\n",
      "El segundo elemento es Texto\n"
     ]
    }
   ],
   "source": [
    "print(\"El primer elemento es\", tupla_ejemplo[0])\n",
    "print(\"El segundo elemento es\", tupla_ejemplo[1])"
   ]
  },
  {
   "cell_type": "markdown",
   "metadata": {
    "id": "GzBon0NPHt91"
   },
   "source": [
    "Los paréntesis ya se usan para reordenar operaciones `5 * (3 + 4)`, por lo que hay que añadir una coma cuando definamos una tupla con un único elemento, sino Python lo interpretará como un número."
   ]
  },
  {
   "cell_type": "code",
   "execution_count": 5,
   "metadata": {
    "id": "vpP0Ia3RHt91"
   },
   "outputs": [
    {
     "name": "stdout",
     "output_type": "stream",
     "text": [
      "<class 'int'> 24\n",
      "<class 'tuple'> (24,)\n"
     ]
    }
   ],
   "source": [
    "mala_tupla = (24)\n",
    "print(type(mala_tupla), mala_tupla)\n",
    "buena_tupla = (24,)\n",
    "print(type(buena_tupla), buena_tupla)"
   ]
  },
  {
   "cell_type": "code",
   "execution_count": 6,
   "metadata": {
    "id": "hcWGcElFHt92"
   },
   "outputs": [
    {
     "name": "stdout",
     "output_type": "stream",
     "text": [
      "(1, 2, 3, ('A', 'B', 'C'))\n",
      "4\n"
     ]
    }
   ],
   "source": [
    "# Adidacion de tuplas\n",
    "\n",
    "tupla_anid = (1, 2, 3, (\"A\", \"B\", \"C\"))\n",
    "print(tupla_anid)\n",
    "print(len(tupla_anid))"
   ]
  },
  {
   "cell_type": "code",
   "execution_count": 7,
   "metadata": {},
   "outputs": [
    {
     "name": "stdout",
     "output_type": "stream",
     "text": [
      "3\n",
      "B\n"
     ]
    }
   ],
   "source": [
    "print(tupla_anid[2])\n",
    "print(tupla_anid[3][1])"
   ]
  },
  {
   "cell_type": "code",
   "execution_count": 8,
   "metadata": {},
   "outputs": [
    {
     "name": "stdout",
     "output_type": "stream",
     "text": [
      "1\n",
      "2\n",
      "3\n",
      "('A', 'B', 'C')\n"
     ]
    }
   ],
   "source": [
    "# son iterables\n",
    "\n",
    "for i in tupla_anid:\n",
    "    print(i)"
   ]
  },
  {
   "cell_type": "code",
   "execution_count": 9,
   "metadata": {},
   "outputs": [
    {
     "name": "stdout",
     "output_type": "stream",
     "text": [
      "(3, ('A', 'B', 'C'))\n"
     ]
    }
   ],
   "source": [
    "# slicing\n",
    "\n",
    "tupla_bis = tupla_anid[2:]\n",
    "print(tupla_bis)"
   ]
  },
  {
   "cell_type": "markdown",
   "metadata": {
    "id": "YA2IUBD4Ht92"
   },
   "source": [
    "<table align=\"left\">\n",
    " <tr>\n",
    "     <td style=\"text-align:left\">\n",
    "         <h3>ERRORES tuplas</h3>\n",
    "         \n",
    " </td></tr>\n",
    "</table>"
   ]
  },
  {
   "cell_type": "markdown",
   "metadata": {
    "id": "YyTPyFoOHt92"
   },
   "source": [
    "Cuidado que las tuplas son inmutables, y una vez creadas no las podrás modificar después"
   ]
  },
  {
   "cell_type": "code",
   "execution_count": 10,
   "metadata": {
    "id": "ZsO7JS2zHt92"
   },
   "outputs": [
    {
     "ename": "TypeError",
     "evalue": "'tuple' object does not support item assignment",
     "output_type": "error",
     "traceback": [
      "\u001b[1;31m---------------------------------------------------------------------------\u001b[0m",
      "\u001b[1;31mTypeError\u001b[0m                                 Traceback (most recent call last)",
      "Cell \u001b[1;32mIn[10], line 2\u001b[0m\n\u001b[0;32m      1\u001b[0m tupla_error \u001b[38;5;241m=\u001b[39m (\u001b[38;5;241m1\u001b[39m, \u001b[38;5;241m2\u001b[39m, \u001b[38;5;241m3\u001b[39m, \u001b[38;5;241m4\u001b[39m, \u001b[38;5;241m5\u001b[39m)\n\u001b[1;32m----> 2\u001b[0m \u001b[43mtupla_error\u001b[49m\u001b[43m[\u001b[49m\u001b[38;5;241;43m3\u001b[39;49m\u001b[43m]\u001b[49m \u001b[38;5;241m=\u001b[39m \u001b[38;5;241m23\u001b[39m\n",
      "\u001b[1;31mTypeError\u001b[0m: 'tuple' object does not support item assignment"
     ]
    }
   ],
   "source": [
    "tupla_error = (1, 2, 3, 4, 5)\n",
    "tupla_error[3] = 23"
   ]
  },
  {
   "cell_type": "code",
   "execution_count": 12,
   "metadata": {
    "id": "uiFWa8LRHt92"
   },
   "outputs": [
    {
     "name": "stdout",
     "output_type": "stream",
     "text": [
      "(1, 2, 3, 4, 5, 6)\n",
      "(1, 2, 3, 4, 5, 6)\n",
      "(1, 2, 3, 4, 5, 6)\n"
     ]
    }
   ],
   "source": [
    "# Si queremos añadir elementos, podemos meterlos en otra tupla y sumarlas para que se concatenen\n",
    "\n",
    "tupla1 = (1, 2, 3)\n",
    "tupla2 = (4, 5, 6)\n",
    "\n",
    "print(tupla1 + tupla2)\n",
    "tupla3 = tupla1 + tupla2\n",
    "tupla1 = tupla1 + tupla2\n",
    "\n",
    "print(tupla3)\n",
    "print(tupla1)"
   ]
  },
  {
   "cell_type": "markdown",
   "metadata": {
    "id": "gRMeWDbnHt93"
   },
   "source": [
    "### Listas y tuplas\n",
    "[al indice](#Contenidos)  \n",
    "\n",
    "Podemos combinar listas y tuplas que no tendremos ningún problema, siempre y cuando respetemos las propiedades de cada tipo de dato."
   ]
  },
  {
   "cell_type": "code",
   "execution_count": 15,
   "metadata": {
    "id": "QbTsSJjLHt93"
   },
   "outputs": [
    {
     "name": "stdout",
     "output_type": "stream",
     "text": [
      "<class 'list'>\n",
      "<class 'tuple'>\n"
     ]
    }
   ],
   "source": [
    "lista = [\"Fresas\", (\"naranjas\", \"limones\"), \"kiwis\"]\n",
    "tupla = (\"hola\", [4, 7], 8)\n",
    "\n",
    "print(type(lista))\n",
    "print(type(tupla))"
   ]
  },
  {
   "cell_type": "code",
   "execution_count": null,
   "metadata": {
    "id": "1FkAWsLEHt93"
   },
   "outputs": [],
   "source": []
  }
 ],
 "metadata": {
  "colab": {
   "provenance": []
  },
  "kernelspec": {
   "display_name": "Python 3 (ipykernel)",
   "language": "python",
   "name": "python3"
  },
  "language_info": {
   "codemirror_mode": {
    "name": "ipython",
    "version": 3
   },
   "file_extension": ".py",
   "mimetype": "text/x-python",
   "name": "python",
   "nbconvert_exporter": "python",
   "pygments_lexer": "ipython3",
   "version": "3.10.11"
  }
 },
 "nbformat": 4,
 "nbformat_minor": 4
}
