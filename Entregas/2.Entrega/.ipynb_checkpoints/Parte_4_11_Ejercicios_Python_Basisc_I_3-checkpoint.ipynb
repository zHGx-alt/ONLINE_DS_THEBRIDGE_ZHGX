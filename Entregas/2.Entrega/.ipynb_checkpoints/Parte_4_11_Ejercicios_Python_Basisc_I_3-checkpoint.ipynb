{
 "cells": [
  {
   "cell_type": "markdown",
   "metadata": {
    "id": "TNSx45HAwJ52"
   },
   "source": [
    "![TheBridge_logo_RGB_color.jpg](attachment:TheBridge_logo_RGB_color.jpg)"
   ]
  },
  {
   "cell_type": "markdown",
   "metadata": {
    "id": "ysG1MIlowJ54"
   },
   "source": [
    "![imagen](./img/ejercicios.png)"
   ]
  },
  {
   "cell_type": "markdown",
   "metadata": {
    "id": "WvYmhSWbwJ55"
   },
   "source": [
    "## EJERCICIOS PYTHON BASICO 3:\n",
    "## Operaciones matemáticas, comparación y booleanas"
   ]
  },
  {
   "cell_type": "markdown",
   "metadata": {
    "id": "ZUJs0ym1wJ55"
   },
   "source": [
    "Completa los siguiente ejercicios, la solución completa a los mismos se publicarán en el repo del curso a lo largo del sprint. En algunos ejercicios se muestra la solución final, para que puedas comprobar que lo has hecho bien, pero lo importante es el código que generes. ¡Vaaamos, a ello...!"
   ]
  },
  {
   "cell_type": "markdown",
   "metadata": {
    "id": "9aGobqH-wJ56"
   },
   "source": [
    "![ejercicio.png](./img/ejercicio.png)\n",
    "\n",
    "\n",
    "## Ejercicio 1\n",
    "Tenemos las siguientes variables:\n",
    "\n",
    "```Python\n",
    "A = 4\n",
    "B = \"Text\"\n",
    "C = 4.1\n",
    "```\n",
    "\n",
    "Comprueba:\n",
    "1. Si A y B son equivalentes\n",
    "2. Si A y C NO son equivalentes\n",
    "3. Si A es mayor que C\n",
    "4. Si C es menor o igual que A\n",
    "5. Si B NO es equivalente a C"
   ]
  },
  {
   "cell_type": "code",
   "execution_count": 4,
   "metadata": {
    "id": "-VQ3BKnUwJ56",
    "outputId": "570b24ae-439e-4584-c426-607f299f1e23"
   },
   "outputs": [
    {
     "name": "stdout",
     "output_type": "stream",
     "text": [
      "A == B False\n",
      "A != C True\n",
      "A > C False\n",
      "C <= A False\n",
      "B != C True\n"
     ]
    }
   ],
   "source": [
    "print(\"A == B\", A == B)\n",
    "print(\"A != C\", A != C)\n",
    "print(\"A > C\", A > C)\n",
    "print(\"C <= A\", C <= A)\n",
    "print(\"B != C\", B != C)"
   ]
  },
  {
   "cell_type": "markdown",
   "metadata": {
    "id": "e6FqKFR7wJ57"
   },
   "source": [
    "![ejercicio.png](./img/ejercicio.png)\n",
    "\n",
    "## Ejercicio 2\n",
    "Crea un programa donde se recojan dos inputs del usuario, y el output del programa sea si esos inputs son iguales o no"
   ]
  },
  {
   "cell_type": "code",
   "execution_count": 11,
   "metadata": {
    "id": "aWizQFQXwJ57"
   },
   "outputs": [
    {
     "name": "stdin",
     "output_type": "stream",
     "text": [
      "Primera respuesta:  fafas\n",
      "Segunda respuesta:  fafas\n"
     ]
    },
    {
     "name": "stdout",
     "output_type": "stream",
     "text": [
      "Son iguales\n"
     ]
    }
   ],
   "source": [
    "input1 = str(input(\"Primera respuesta: \"))\n",
    "input2 = str(input(\"Segunda respuesta: \"))\n",
    "\n",
    "if input1 == input2 :\n",
    "    print(\"Son iguales\")\n",
    "else :\n",
    "    print(\"No son iguales\")"
   ]
  },
  {
   "cell_type": "markdown",
   "metadata": {
    "id": "220U9x4FwJ57"
   },
   "source": [
    "![ejercicio.png](./img/ejercicio.png)\n",
    "\n",
    "## Ejercicio 3\n",
    "Mismo programa que en 2, pero en esta ocasión tienen que ser tres inputs y dos salidas. Una de las salidas que nos indique si todos son iguales, y la otra si al menos dos inputs sí que lo son"
   ]
  },
  {
   "cell_type": "code",
   "execution_count": 14,
   "metadata": {
    "id": "KkNhFXpqwJ57",
    "outputId": "98d5b5dc-0b82-4f66-e86a-41928445383f"
   },
   "outputs": [
    {
     "name": "stdin",
     "output_type": "stream",
     "text": [
      "Primera respuesta:  1\n",
      "Segunda respuesta: 2\n",
      "Tercera respuesta:  3\n"
     ]
    },
    {
     "name": "stdout",
     "output_type": "stream",
     "text": [
      "Todas diferentes\n"
     ]
    }
   ],
   "source": [
    "input1 = str(input(\"Primera respuesta: \"))\n",
    "input2 = str(input(\"Segunda respuesta:\"))\n",
    "input3 = str(input(\"Tercera respuesta: \"))\n",
    "\n",
    "if input1 == input2 == input3:\n",
    "    print(\"Todas iguales\")\n",
    "\n",
    "elif input1 == input2:\n",
    "    print(\"El primero y el segundo sosn iguales\")\n",
    "elif input1 == input3:\n",
    "    print(\"El primero y el tercero son iguales\")\n",
    "elif input2 == input3:\n",
    "    print(\"La segunda y la tercera son iguales\")\n",
    "\n",
    "else:\n",
    "    print(\"Todas diferentes\")\n",
    "    "
   ]
  },
  {
   "cell_type": "markdown",
   "metadata": {
    "id": "nlYRTBMPwJ58"
   },
   "source": [
    "![ejercicio.png](./img/ejercicio.png)\n",
    "\n",
    "## Ejercicio 4\n",
    "Razona sin ejecutar código el output que obtendremos de las siguientes sentencias\n",
    "1. True and True and False\n",
    "2. not ((True or False) and (True or False))\n",
    "3. (False or False or False or True) and False\n",
    "4. not False and True and not True"
   ]
  },
  {
   "cell_type": "markdown",
   "metadata": {},
   "source": [
    "todas False"
   ]
  }
 ],
 "metadata": {
  "colab": {
   "provenance": []
  },
  "kernelspec": {
   "display_name": "Python 3 (ipykernel)",
   "language": "python",
   "name": "python3"
  },
  "language_info": {
   "codemirror_mode": {
    "name": "ipython",
    "version": 3
   },
   "file_extension": ".py",
   "mimetype": "text/x-python",
   "name": "python",
   "nbconvert_exporter": "python",
   "pygments_lexer": "ipython3",
   "version": "3.10.11"
  }
 },
 "nbformat": 4,
 "nbformat_minor": 4
}
