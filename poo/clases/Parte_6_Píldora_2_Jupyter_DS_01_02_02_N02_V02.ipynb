{
 "cells": [
  {
   "cell_type": "markdown",
   "metadata": {
    "id": "2aMBA51dRK5i"
   },
   "source": [
    "![TheBridge_Python_v0.png](attachment:TheBridge_Python_v0.png)"
   ]
  },
  {
   "cell_type": "markdown",
   "metadata": {
    "id": "NWQK1Y7sRK5l"
   },
   "source": [
    "# Clases y Objetos en Python\n",
    "\n",
    "\n",
    "Como sabes, Python es un lenguaje de programación orientado a objetos. Si recuerdas de la sesión inicial, eso quiere decir que trabaja trabaja con elementos denominados objetos, que vienen definidos por unos templates o plantillas que llamamos clases. Es una manera de expresar en lenguaje máquina cosas de la vida real.\n",
    "\n",
    "Los \"objetos\" de una clase son instancias de esa clase que determina los atributos y métodos de estos. En este notebook vamos a ver con un poco más de detalle el concepto de clase y cómo crear nuestras propias clases.\n"
   ]
  },
  {
   "cell_type": "markdown",
   "metadata": {
    "id": "FK3FA85BRK5l"
   },
   "source": [
    "##  Clases\n"
   ]
  },
  {
   "cell_type": "markdown",
   "metadata": {
    "id": "BCOsRyxVRK5m"
   },
   "source": [
    "### Contenidos"
   ]
  },
  {
   "cell_type": "markdown",
   "metadata": {
    "id": "FRHjDnoERK5m"
   },
   "source": [
    "* [Clase vs Objeto](#Clase-vs-Objeto)\n",
    "\n"
   ]
  },
  {
   "cell_type": "markdown",
   "metadata": {
    "id": "Lf06QBSNRK5m"
   },
   "source": [
    "\n",
    "Las clases son la manera que tenemos de describir los objetos. Hasta ahora hemos visto clases básicas que vienen incluidas en Python como *int*, *str* o clases algo más complejas como los *dict*. Pero, **¿y si queremos crear nuestros propios objetos?** En los lenguajes orientados a objetos tenemos la posibilidad de definir nuevos objetos que se asemejen más a nuestros casos de uso y hagan la programación más sencilla de desarrollar y entender.\n",
    "\n",
    "**Un número entero es un objeto de la clase *int* que posee unas características diferentes a un texto**, que es de la clase *str*. Por ejemplo, **¿cómo sabemos que un coche es un coche?** ¿qué características tiene? Los coches tienen una marca, una cantidad de caballos, hay unos automáticos, otros no… De esta manera traducimos a lenguaje de maquina, a programación, un concepto que tenemos nosotros muy claro e interiorizado.\n",
    "\n",
    "Hasta ahora, hemos visto varias clases, por ejemplo la clase *str*. Cuando veiamos el tipo de dato, Python imprimía por pantalla `str`. Y al ser `str`, tenía unas propiedades que no tenían otros objetos, como los métodos `upper()` o `lower()`.\n",
    "\n",
    "La sintaxis para crear una clase es:\n",
    "```Python\n",
    "class NombreClase:\n",
    "    # Cosas de la clase\n",
    "```\n",
    "\n",
    "Normalmente para el nombre de la clase se usa *CamelCase*, que quiere decir que se define en minúsculas, sin espacios ni guiones, y jugando con las mayúsculas para diferenciar palabras.\n",
    "\n",
    "Mira cómo es la [clase *built_in* de *String*](https://docs.python.org/3/library/stdtypes.html#str)"
   ]
  },
  {
   "cell_type": "code",
   "execution_count": 2,
   "metadata": {
    "id": "b_24-YQeRK5n"
   },
   "outputs": [],
   "source": [
    "class Coche:\n",
    "    # Atributos y metodos\n",
    "    pass"
   ]
  },
  {
   "cell_type": "markdown",
   "metadata": {
    "id": "ryjBGh7pRK5n"
   },
   "source": [
    "La sentencia `pass` se usa para forzar el fin de la clase *Coche*. La hemos declarado, pero no lleva nada. Python demanda una definición de la clase y podemos ignorar esa demanda mediante la sentencia `pass`."
   ]
  },
  {
   "cell_type": "code",
   "execution_count": 3,
   "metadata": {
    "id": "4e4Ad56SRK5o"
   },
   "outputs": [
    {
     "name": "stdout",
     "output_type": "stream",
     "text": [
      "<class 'type'>\n"
     ]
    }
   ],
   "source": [
    "print(type(Coche))"
   ]
  },
  {
   "cell_type": "markdown",
   "metadata": {
    "id": "DwVQaFRtRK5o"
   },
   "source": [
    "Bien, coche es de tipo `type`, claro porque **no es un objeto con tal**, sino que es una clase. Cuando creemos coches, estos serán de clase *Coche*, es decir, de tipo *Coche*, por lo que tiene sentido que *Coche* sea de tipo `type`."
   ]
  },
  {
   "cell_type": "markdown",
   "metadata": {
    "id": "MAlWr4X5RK5o"
   },
   "source": [
    "### Clase vs Objeto\n",
    "[al indice](#Contenidos)  \n",
    "\n",
    "**La clase se usa para definir algo**. Al igual que con las funciones. Creamos el esqueleto de lo que será un objeto de esa clase. Por tanto, **una vez tengamos la clase definida, instanciaremos un objeto de esa clase**.  Es como crear el concepto de coche, con todas sus características y funcionalidades. Después, a lo largo del programa, podremos crear objetos de tipo coche, que se ajusten a lo definido en la clase coche. Cada coche tendrá una marca, una potencia, etc…"
   ]
  },
  {
   "cell_type": "code",
   "execution_count": 4,
   "metadata": {
    "id": "_ciGvl_hRK5o"
   },
   "outputs": [
    {
     "name": "stdout",
     "output_type": "stream",
     "text": [
      "<class '__main__.Coche'>\n",
      "<__main__.Coche object at 0x0000025D4E939D20>\n"
     ]
    }
   ],
   "source": [
    "primer_coche = Coche()\n",
    "print(type(primer_coche))\n",
    "print(primer_coche)"
   ]
  },
  {
   "cell_type": "markdown",
   "metadata": {
    "id": "hC4X3YQvRK5o"
   },
   "source": [
    "Ahora sí tenemos un objeto de tipo Coche, que se llama `primer_coche`. Cuando imprimimos su tipo, vemos que es de tipo Coche, y cuando lo imprimes el objeto por pantalla, simplemente nos dice su tipo y un identificador.\n",
    "\n",
    "Podremos crear todos los coches que queramos"
   ]
  },
  {
   "cell_type": "code",
   "execution_count": 5,
   "metadata": {
    "id": "4D-ef2rORK5p"
   },
   "outputs": [
    {
     "data": {
      "text/plain": [
       "False"
      ]
     },
     "execution_count": 5,
     "metadata": {},
     "output_type": "execute_result"
    }
   ],
   "source": [
    "citroen = Coche()\n",
    "porsche = Coche()\n",
    "\n",
    "citroen == porsche"
   ]
  },
  {
   "cell_type": "markdown",
   "metadata": {
    "id": "D8Kvtp54RK5p"
   },
   "source": [
    "De momento todos nuestros coches son iguales, no hemos definido bien la clase, por lo que va a ser difícil diferenciar un coche de otro. Vamos a ver cómo lograr esa diferenciación."
   ]
  },
  {
   "cell_type": "markdown",
   "metadata": {
    "id": "J_YKvEbbRK5p"
   },
   "source": [
    "![dogs.jpg](attachment:dogs.jpg)"
   ]
  },
  {
   "cell_type": "markdown",
   "metadata": {
    "id": "chNuQIknRK5p"
   },
   "source": []
  }
 ],
 "metadata": {
  "colab": {
   "provenance": []
  },
  "kernelspec": {
   "display_name": "Python 3 (ipykernel)",
   "language": "python",
   "name": "python3"
  },
  "language_info": {
   "codemirror_mode": {
    "name": "ipython",
    "version": 3
   },
   "file_extension": ".py",
   "mimetype": "text/x-python",
   "name": "python",
   "nbconvert_exporter": "python",
   "pygments_lexer": "ipython3",
   "version": "3.10.11"
  }
 },
 "nbformat": 4,
 "nbformat_minor": 4
}
